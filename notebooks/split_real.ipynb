{
 "cells": [
  {
   "cell_type": "code",
   "execution_count": 1,
   "metadata": {},
   "outputs": [],
   "source": [
    "import os\n",
    "import numpy as np\n",
    "from sklearn.model_selection import train_test_split"
   ]
  },
  {
   "cell_type": "code",
   "execution_count": 2,
   "metadata": {},
   "outputs": [
    {
     "name": "stdout",
     "output_type": "stream",
     "text": [
      "122563\n"
     ]
    }
   ],
   "source": [
    "train_list_path = '../data/real/real_train_ori.csv'\n",
    "\n",
    "with open(train_list_path) as fin:\n",
    "    train_list = fin.readlines()\n",
    "\n",
    "train_list = train_list[1:]\n",
    "num_train = len(train_list)\n",
    "print(num_train)\n",
    "\n",
    "image_list = []; label_list = []\n",
    "for sample in train_list:\n",
    "    image, label = sample.split(',')\n",
    "    image_list.append(image)\n",
    "    label_list.append(int(label.replace('\\n', '')))\n",
    "image_list = np.asarray(image_list).reshape(-1,1)\n",
    "label_list = np.asarray(label_list).reshape(-1,1)"
   ]
  },
  {
   "cell_type": "code",
   "execution_count": 3,
   "metadata": {},
   "outputs": [],
   "source": [
    "X_train, X_test, y_train, y_test = train_test_split(\n",
    "    image_list, label_list, test_size=0.2, random_state=42, stratify = label_list)"
   ]
  },
  {
   "cell_type": "code",
   "execution_count": 4,
   "metadata": {},
   "outputs": [],
   "source": [
    "splited_train_list = list(zip(X_train.reshape(1,-1).tolist()[0], y_train.reshape(1,-1).tolist()[0]))\n",
    "splited_val_list = list(zip(X_test.reshape(1,-1).tolist()[0], y_test.reshape(1,-1).tolist()[0]))\n",
    "\n",
    "# sorting\n",
    "splited_train_list = sorted(splited_train_list, key = lambda sample: sample[1])\n",
    "splited_val_list = sorted(splited_val_list, key = lambda sample: sample[1])"
   ]
  },
  {
   "cell_type": "code",
   "execution_count": 5,
   "metadata": {},
   "outputs": [],
   "source": [
    "with open('../data/real/real_train.csv', 'w+') as fout:\n",
    "    fout.write('image_name,label\\n')\n",
    "    for (image, label) in splited_train_list:\n",
    "        line = '{},{}\\n'.format(image, label)\n",
    "        fout.write(line)\n",
    "\n",
    "with open('../data/real/real_test.csv', 'w+') as fout:\n",
    "    fout.write('image_name,label\\n')\n",
    "    for (image, label) in splited_val_list:\n",
    "        line = '{},{}\\n'.format(image, label)\n",
    "        fout.write(line)"
   ]
  },
  {
   "cell_type": "code",
   "execution_count": 6,
   "metadata": {},
   "outputs": [
    {
     "name": "stdout",
     "output_type": "stream",
     "text": [
      "98050 24513\n"
     ]
    }
   ],
   "source": [
    "print(len(splited_train_list), len(splited_val_list))"
   ]
  },
  {
   "cell_type": "code",
   "execution_count": null,
   "metadata": {},
   "outputs": [],
   "source": []
  }
 ],
 "metadata": {
  "kernelspec": {
   "display_name": "Python 3",
   "language": "python",
   "name": "python3"
  },
  "language_info": {
   "codemirror_mode": {
    "name": "ipython",
    "version": 3
   },
   "file_extension": ".py",
   "mimetype": "text/x-python",
   "name": "python",
   "nbconvert_exporter": "python",
   "pygments_lexer": "ipython3",
   "version": "3.5.2"
  }
 },
 "nbformat": 4,
 "nbformat_minor": 2
}
