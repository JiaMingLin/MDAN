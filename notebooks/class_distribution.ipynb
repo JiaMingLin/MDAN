{
 "cells": [
  {
   "cell_type": "markdown",
   "metadata": {},
   "source": [
    "# Display the class distributions"
   ]
  },
  {
   "cell_type": "code",
   "execution_count": 28,
   "metadata": {},
   "outputs": [],
   "source": [
    "import sys\n",
    "sys.path.append('../')\n",
    "\n",
    "import os\n",
    "import numpy as np\n",
    "import matplotlib.pyplot as plt\n",
    "\n",
    "import constant\n",
    "data_sources = ['real', 'sketch', 'infograph', 'quickdraw']\n",
    "data_root = '../data/'"
   ]
  },
  {
   "cell_type": "code",
   "execution_count": 23,
   "metadata": {},
   "outputs": [],
   "source": [
    "def read_labels_dist(dataset, train = True, sort_by_value = False):\n",
    "    if train:\n",
    "        csv_path = os.path.join(data_root, dataset, '{}_train.csv'.format(dataset))\n",
    "    else:\n",
    "        csv_path = os.path.join(data_root, dataset, '{}_test.csv'.format(dataset))\n",
    "    \n",
    "    with open(csv_path) as fin:\n",
    "        label_list = [line.replace('\\n', '').split(',') for line in fin.readlines()[1:]]\n",
    "        label_list = [int(line[1]) for line in label_list]\n",
    "    cls, counts = np.unique(label_list, return_counts = True)\n",
    "    return cls, counts"
   ]
  },
  {
   "cell_type": "code",
   "execution_count": 27,
   "metadata": {},
   "outputs": [],
   "source": [
    "real_train_cls, real_train_counts = read_labels_dist(data_sources[0])\n",
    "real_test_cls, real_test_counts = read_labels_dist(data_sources[0], train = False)"
   ]
  },
  {
   "cell_type": "code",
   "execution_count": 30,
   "metadata": {},
   "outputs": [
    {
     "data": {
      "image/png": "[encoded data removed]",
      "text/plain": [
       "<Figure size 432x288 with 1 Axes>"
      ]
     },
     "metadata": {
      "needs_background": "light"
     },
     "output_type": "display_data"
    }
   ],
   "source": [
    "plt.figure(0)\n",
    "p1 = plt.bar(real_train_cls, real_train_counts)"
   ]
  },
  {
   "cell_type": "code",
   "execution_count": 31,
   "metadata": {},
   "outputs": [
    {
     "data": {
      "image/png": "[encoded data removed]",
      "text/plain": [
       "<Figure size 432x288 with 1 Axes>"
      ]
     },
     "metadata": {
      "needs_background": "light"
     },
     "output_type": "display_data"
    }
   ],
   "source": [
    "skt_train_cls, skt_train_counts = read_labels_dist(data_sources[1])\n",
    "plt.figure(1)\n",
    "p1 = plt.bar(skt_train_cls, skt_train_counts)"
   ]
  },
  {
   "cell_type": "code",
   "execution_count": 32,
   "metadata": {},
   "outputs": [
    {
     "data": {
      "image/png": "[encoded data removed]",
      "text/plain": [
       "<Figure size 432x288 with 1 Axes>"
      ]
     },
     "metadata": {
      "needs_background": "light"
     },
     "output_type": "display_data"
    }
   ],
   "source": [
    "info_train_cls, info_train_counts = read_labels_dist(data_sources[2])\n",
    "plt.figure(2)\n",
    "p1 = plt.bar(info_train_cls, info_train_counts)"
   ]
  },
  {
   "cell_type": "code",
   "execution_count": null,
   "metadata": {},
   "outputs": [],
   "source": []
  }
 ],
 "metadata": {
  "kernelspec": {
   "display_name": "Python 3",
   "language": "python",
   "name": "python3"
  },
  "language_info": {
   "codemirror_mode": {
    "name": "ipython",
    "version": 3
   },
   "file_extension": ".py",
   "mimetype": "text/x-python",
   "name": "python",
   "nbconvert_exporter": "python",
   "pygments_lexer": "ipython3",
   "version": "3.5.2"
  }
 },
 "nbformat": 4,
 "nbformat_minor": 2
}
